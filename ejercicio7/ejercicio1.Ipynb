{
 "cells": [
  {
   "cell_type": "markdown",
   "metadata": {},
   "source": [
    "\n",
    "\n",
    "Ejercicio 1: Pedir al usuario que ingrese 10 nombres de personas no repetidas, guardarlos en una lista y mostrarlos.\n",
    "Pseudocódigo:\n",
    "\n",
    "## Pseudocódigo:\n",
    "\n",
    "Crear una lista vacía llamada nombres.\n",
    "\n",
    "Mientras el tamaño de nombres sea menor que 10:\n",
    "\n",
    "Pedir al usuario que ingrese un nombre.\n",
    "\n",
    "Si el nombre no está en nombres, agregarlo.\n",
    "\n",
    "Si el nombre ya está en nombres, informar al usuario y pedir otro nombre.\n",
    "\n",
    "Mostrar la lista nombres."
   ]
  },
  {
   "cell_type": "code",
   "execution_count": null,
   "metadata": {},
   "outputs": [],
   "source": [
    "nombres = []\n",
    "\n",
    "while len(nombres) < 10:\n",
    "    nombre = input(\"Ingrese un nombre: \")\n",
    "    if nombre not in nombres:\n",
    "        nombres.append(nombre)\n",
    "    else:\n",
    "        print(\"El nombre ya está en la lista, ingrese otro nombre.\")\n",
    "\n",
    "print(\"Lista de nombres ingresados:\", nombres)"
   ]
  },
  {
   "cell_type": "markdown",
   "metadata": {},
   "source": [
    "Ejercicio 2: Eliminar la tercera y la última persona de la lista del ejercicio 1, luego ordenar la lista y mostrarlo.\n",
    "\n",
    "Pseudocódigo:\n",
    "\n",
    "Eliminar la tercera persona de la lista.\n",
    "\n",
    "Eliminar la última persona de la lista.\n",
    "\n",
    "Ordenar la lista.\n",
    "\n",
    "Mostrar la lista ordenada."
   ]
  },
  {
   "cell_type": "code",
   "execution_count": null,
   "metadata": {},
   "outputs": [],
   "source": [
    "# Eliminar la tercera persona (índice 2)\n",
    "if len(nombres) > 2:\n",
    "    del nombres[2]\n",
    "\n",
    "# Eliminar la última persona\n",
    "if len(nombres) > 0:\n",
    "    del nombres[-1]\n",
    "\n",
    "# Ordenar la lista\n",
    "nombres.sort()\n",
    "\n",
    "print(\"Lista de nombres después de las modificaciones:\", nombres)\n"
   ]
  },
  {
   "cell_type": "markdown",
   "metadata": {},
   "source": [
    "Ejercicio 3: Guardar en un diccionario los datos de una persona: nombre, apellido, dni, email, fecha de nacimiento.\n",
    "\n",
    "Pseudocódigo:\n",
    "\n",
    "Crear un diccionario llamado persona.\n",
    "\n",
    "Pedir al usuario que ingrese el nombre, apellido, dni, email y fecha de nacimiento.\n",
    "\n",
    "Guardar los datos en el diccionario persona.\n",
    "\n",
    "Mostrar el diccionario persona."
   ]
  },
  {
   "cell_type": "code",
   "execution_count": null,
   "metadata": {},
   "outputs": [],
   "source": [
    "persona = {}\n",
    "persona['nombre'] = input(\"Ingrese el nombre: \")\n",
    "persona['apellido'] = input(\"Ingrese el apellido: \")\n",
    "persona['dni'] = input(\"Ingrese el DNI: \")\n",
    "persona['email'] = input(\"Ingrese el email: \")\n",
    "persona['fecha_de_nacimiento'] = input(\"Ingrese la fecha de nacimiento (DD/MM/AAAA): \")\n",
    "\n",
    "print(\"Datos de la persona:\", persona)\n"
   ]
  },
  {
   "cell_type": "markdown",
   "metadata": {},
   "source": [
    "Ejercicio 4: En un nuevo diccionario llamado familia guardar 4 personas, cada una de ellas con los mismos 5 datos.\n",
    "\n",
    "Pseudocódigo:\n",
    "\n",
    "Crear un diccionario llamado familia.\n",
    "\n",
    "Para i desde 1 hasta 4:\n",
    "\n",
    "Crear un diccionario llamado persona.\n",
    "\n",
    "Pedir al usuario que ingrese el nombre, apellido, dni, email y fecha de nacimiento.\n",
    "\n",
    "Guardar los datos en el diccionario persona.\n",
    "\n",
    "Agregar el diccionario persona al diccionario familia con la clave persona_i.\n",
    "\n",
    "Mostrar el diccionario familia.\n"
   ]
  },
  {
   "cell_type": "code",
   "execution_count": null,
   "metadata": {},
   "outputs": [],
   "source": [
    "familia = {}\n",
    "\n",
    "for i in range(1, 5):\n",
    "    persona = {}\n",
    "    print(f\"Ingrese los datos de la persona {i}:\")\n",
    "    persona['nombre'] = input(\"Nombre: \")\n",
    "    persona['apellido'] = input(\"Apellido: \")\n",
    "    persona['dni'] = input(\"DNI: \")\n",
    "    persona['email'] = input(\"Email: \")\n",
    "    persona['fecha_de_nacimiento'] = input(\"Fecha de nacimiento (DD/MM/AAAA): \")\n",
    "    familia[f'persona_{i}'] = persona\n",
    "\n",
    "print(\"Datos de la familia:\", familia)\n"
   ]
  },
  {
   "cell_type": "markdown",
   "metadata": {},
   "source": [
    "Ejercicio 5: Guardar en una tupla los primeros n números pares. El valor de n que lo ingrese el usuario. Luego mostrar los datos de la tupla.\n",
    "\n",
    "Pseudocódigo:\n",
    "\n",
    "Pedir al usuario que ingrese el valor de n.\n",
    "\n",
    "Crear una lista vacía llamada pares.\n",
    "\n",
    "Para i desde 0 hasta 2*n-1:\n",
    "\n",
    "Si i es par, agregar i a pares.\n",
    "\n",
    "Convertir la lista pares en una tupla.\n",
    "\n",
    "Mostrar la tupla."
   ]
  },
  {
   "cell_type": "code",
   "execution_count": null,
   "metadata": {},
   "outputs": [],
   "source": [
    "n = int(input(\"Ingrese el valor de n: \"))\n",
    "pares = []\n",
    "\n",
    "for i in range(2 * n):\n",
    "    if i % 2 == 0:\n",
    "        pares.append(i)\n",
    "\n",
    "pares_tupla = tuple(pares)\n",
    "print(\"Los primeros\", n, \"números pares son:\", pares_tupla)\n"
   ]
  }
 ],
 "metadata": {
  "language_info": {
   "name": "python"
  }
 },
 "nbformat": 4,
 "nbformat_minor": 2
}
