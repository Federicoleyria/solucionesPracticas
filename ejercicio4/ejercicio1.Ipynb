{
 "cells": [
  {
   "cell_type": "markdown",
   "metadata": {},
   "source": [
    "## Análisis\n",
    "El estudiante tiene 5 notas, una para cada materia. Debemos calcular el promedio de esas notas.\n",
    "\n",
    "Datos de entrada:\n",
    "\n",
    "nota1: Nota de la primera materia (tipo: float)\n",
    "\n",
    "nota2: Nota de la segunda materia (tipo: float)\n",
    "\n",
    "nota3: Nota de la tercera materia (tipo: float)\n",
    "\n",
    "nota4: Nota de la cuarta materia (tipo: float)\n",
    "\n",
    "nota5: Nota de la quinta materia (tipo: float)\n",
    "\n",
    "Resultado o salida:\n",
    "\n",
    "promedio: Promedio de las notas (tipo: float)\n",
    "Cálculos o proceso:\n",
    "\n",
    "Sumar todas las notas.\n",
    "Dividir la suma total entre el número de materias (5)."
   ]
  },
  {
   "cell_type": "markdown",
   "metadata": {},
   "source": [
    "## DISEÑO PESUDOCDIGO\n",
    "\n",
    "Algoritmo CalcularPromedio\n",
    "    Definir nota1, nota2, nota3, nota4, nota5, promedio Como Real\n",
    "    \n",
    "    Escribir \"Ingrese la nota de la primera materia: \"\n",
    "    Leer nota1\n",
    "    \n",
    "    Escribir \"Ingrese la nota de la segunda materia: \"\n",
    "    Leer nota2\n",
    "    \n",
    "    Escribir \"Ingrese la nota de la tercera materia: \"\n",
    "    Leer nota3\n",
    "    \n",
    "    Escribir \"Ingrese la nota de la cuarta materia: \"\n",
    "    Leer nota4\n",
    "    \n",
    "    Escribir \"Ingrese la nota de la quinta materia: \"\n",
    "    Leer nota5\n",
    "    \n",
    "    promedio <- (nota1 + nota2 + nota3 + nota4 + nota5) / 5\n",
    "    \n",
    "    Escribir \"El promedio de las notas es: \", promedio\n",
    "FinAlgoritmo"
   ]
  },
  {
   "cell_type": "code",
   "execution_count": null,
   "metadata": {},
   "outputs": [],
   "source": [
    "# Solicitar al usuario las notas de las cinco materias\n",
    "nota1 = float(input(\"Ingrese la nota de la primera materia: \"))\n",
    "nota2 = float(input(\"Ingrese la nota de la segunda materia: \"))\n",
    "nota3 = float(input(\"Ingrese la nota de la tercera materia: \"))\n",
    "nota4 = float(input(\"Ingrese la nota de la cuarta materia: \"))\n",
    "nota5 = float(input(\"Ingrese la nota de la quinta materia: \"))\n",
    "\n",
    "# Calcular el promedio\n",
    "promedio = (nota1 + nota2 + nota3 + nota4 + nota5) / 5\n",
    "\n",
    "# Mostrar el resultado\n",
    "print(\"El promedio de las notas es:\", promedio)"
   ]
  }
 ],
 "metadata": {
  "language_info": {
   "name": "python"
  }
 },
 "nbformat": 4,
 "nbformat_minor": 2
}
