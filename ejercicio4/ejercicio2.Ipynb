{
 "cells": [
  {
   "cell_type": "markdown",
   "metadata": {},
   "source": [
    "## Análisis\n",
    "El pintor necesita calcular el costo de mano de obra para pintar una pared rectangular. Para ello, se requiere conocer las dimensiones de la pared y el costo fijo por metro cuadrado.\n",
    "\n",
    "Datos de entrada:\n",
    "\n",
    "altura: Altura de la pared (tipo: float)\n",
    "ancho: Ancho de la pared (tipo: float)\n",
    "costo_por_m2: Costo fijo por metro cuadrado (tipo: float)\n",
    "Resultado o salida:\n",
    "\n",
    "costo_total: Costo total de la mano de obra para pintar la pared (tipo: float)\n",
    "Cálculos o proceso:\n",
    "\n",
    "Calcular el área de la pared multiplicando la altura por el ancho.\n",
    "Multiplicar el área de la pared por el costo por metro cuadrado."
   ]
  },
  {
   "cell_type": "markdown",
   "metadata": {},
   "source": [
    "## Diseño en pseudocódigo\n",
    "Algoritmo CalcularCostoPintura\n",
    "    Definir altura, ancho, costo_por_m2, area, costo_total Como Real\n",
    "    \n",
    "    Escribir \"Ingrese la altura de la pared en metros: \"\n",
    "    Leer altura\n",
    "    \n",
    "    Escribir \"Ingrese el ancho de la pared en metros: \"\n",
    "    Leer ancho\n",
    "    \n",
    "    Escribir \"Ingrese el costo por metro cuadrado: \"\n",
    "    Leer costo_por_m2\n",
    "    \n",
    "    area <- altura * ancho\n",
    "    costo_total <- area * costo_por_m2\n",
    "    \n",
    "    Escribir \"El costo total de la mano de obra para pintar la pared es: \", costo_total\n",
    "FinAlgoritmo"
   ]
  },
  {
   "cell_type": "code",
   "execution_count": null,
   "metadata": {},
   "outputs": [],
   "source": [
    "# Solicitar al usuario las dimensiones de la pared y el costo por metro cuadrado\n",
    "altura = float(input(\"Ingrese la altura de la pared en metros: \"))\n",
    "ancho = float(input(\"Ingrese el ancho de la pared en metros: \"))\n",
    "costo_por_m2 = float(input(\"Ingrese el costo por metro cuadrado: \"))\n",
    "\n",
    "# Calcular el área de la pared\n",
    "area = altura * ancho\n",
    "\n",
    "# Calcular el costo total de la mano de obra\n",
    "costo_total = area * costo_por_m2\n",
    "\n",
    "# Mostrar el resultado\n",
    "print(\"El costo total de la mano de obra para pintar la pared es:\", costo_total)"
   ]
  }
 ],
 "metadata": {
  "kernelspec": {
   "display_name": "Python 3",
   "language": "python",
   "name": "python3"
  },
  "language_info": {
   "name": "python",
   "version": "3.12.3"
  }
 },
 "nbformat": 4,
 "nbformat_minor": 2
}
