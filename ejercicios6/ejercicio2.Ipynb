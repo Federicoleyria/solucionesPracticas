{
 "cells": [
  {
   "cell_type": "markdown",
   "metadata": {},
   "source": [
    "## Análisis\n",
    "\n",
    "Descripción:\n",
    "\n",
    "El programa solicita al usuario que ingrese nombres de personas y los muestra uno a uno. El proceso continúa hasta que el usuario ingrese la palabra \"fin\".\n",
    "\n",
    "Datos de entrada:\n",
    "\n",
    "\n",
    "nombre (tipo: cadena): Nombre ingresado por el usuario.\n",
    "\n",
    "Proceso:\n",
    "\n",
    "\n",
    "Solicitar al usuario que ingrese un nombre.\n",
    "\n",
    "Mientras el nombre ingresado no sea \"fin\", mostrar el nombre y solicitar otro.\n",
    "\n",
    "Terminar el proceso cuando se ingrese \"fin\".\n",
    "\n",
    "Salida:\n",
    "\n",
    "Mostrar cada nombre ingresado por el usuario hasta que se ingrese \"fin\"."
   ]
  },
  {
   "cell_type": "markdown",
   "metadata": {},
   "source": [
    "## Pseudocódigo\n",
    "\n",
    "Algoritmo MostrarNombres\n",
    "\n",
    "    Definir nombre Como Cadena\n",
    "\n",
    "\n",
    "    Repetir\n",
    "\n",
    "        Escribir \"Ingrese el nombre de una persona (escriba 'fin' para terminar): \"\n",
    "\n",
    "        Leer nombre\n",
    "\n",
    "        Si nombre <> \"fin\" Entonces\n",
    "\n",
    "            Escribir nombre\n",
    "\n",
    "        Fin Si\n",
    "\n",
    "    Hasta Que nombre = \"fin\"\n",
    "    \n",
    "FinAlgoritmo"
   ]
  },
  {
   "cell_type": "code",
   "execution_count": null,
   "metadata": {},
   "outputs": [],
   "source": [
    "# Descripción:\n",
    "# Este programa pide al usuario que ingrese nombres de personas y los muestra hasta que se ingrese \"fin\".\n",
    "\n",
    "while True:\n",
    "    nombre = input(\"Ingrese el nombre de una persona (escriba 'fin' para terminar): \")\n",
    "    if nombre.lower() == \"fin\":\n",
    "        break\n",
    "    print(nombre)\n"
   ]
  }
 ],
 "metadata": {
  "language_info": {
   "name": "python"
  }
 },
 "nbformat": 4,
 "nbformat_minor": 2
}
