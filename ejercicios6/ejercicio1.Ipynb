{
 "cells": [
  {
   "cell_type": "markdown",
   "metadata": {},
   "source": [
    "## Análisis\n",
    "\n",
    "Este programa solicita al usuario que ingrese un número entero y luego imprime una secuencia de números desde 0 hasta ese número menos uno.\n",
    "\n",
    "Datos de entrada:\n",
    "\n",
    "numero (tipo: entero): El número ingresado por el usuario.\n",
    "Proceso:\n",
    "\n",
    "Se solicita al usuario que ingrese un número entero y se almacena en la variable numero.\n",
    "\n",
    "Se establece largo_numero igual a numero.\n",
    "Se itera desde 0 hasta largo_numero - 1 imprimiendo cada valor del contador i.\n",
    "\n",
    "El valor de i se incrementa automáticamente en cada iteración del bucle for.\n",
    "\n",
    "Salida:\n",
    "\n",
    "Imprime los números desde 0 hasta numero - 1.\n",
    "Finalmente, imprime el valor de largo_numero."
   ]
  },
  {
   "cell_type": "markdown",
   "metadata": {},
   "source": [
    "## PSEUCODIGO\n",
    "\n",
    "Algoritmo  ImprimirNumeros\n",
    "    \n",
    "    Definir numero, largo_numero, i Como Entero\n",
    "\n",
    "    Escribir \"Elige un numero: \"\n",
    "    Leer numero\n",
    "\n",
    "    largo_numero <- numero\n",
    "\n",
    "    Para i <- 0 Hasta largo_numero - 1 Con Paso 1 Hacer\n",
    "        Escribir i\n",
    "    Fin Para\n",
    "\n",
    "    Escribir largo_numero\n",
    "FinAlgoritmo\n"
   ]
  },
  {
   "cell_type": "code",
   "execution_count": null,
   "metadata": {},
   "outputs": [],
   "source": [
    "numero = int(input(\"Elige un numero: \"))\n",
    "largo_numero = numero\n",
    "for i in range(largo_numero):\n",
    "    print(i)\n",
    "    i +=1\n",
    "print(largo_numero)"
   ]
  }
 ],
 "metadata": {
  "kernelspec": {
   "display_name": "Python 3",
   "language": "python",
   "name": "python3"
  },
  "language_info": {
   "name": "python",
   "version": "3.12.3"
  }
 },
 "nbformat": 4,
 "nbformat_minor": 2
}
