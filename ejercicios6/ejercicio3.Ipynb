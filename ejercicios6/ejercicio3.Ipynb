{
 "cells": [
  {
   "cell_type": "markdown",
   "metadata": {},
   "source": [
    "## Análisis\n",
    "\n",
    "Descripción:\n",
    "\n",
    "El programa debe generar y mostrar la tabla de multiplicar de un número ingresado por el usuario, comprendido entre 1 y 10.\n",
    "\n",
    "Datos de entrada:\n",
    "\n",
    "numero (tipo: entero): El número para el cual se debe generar la tabla de multiplicar.\n",
    "\n",
    "Proceso:\n",
    "\n",
    "Solicitar al usuario que ingrese un número entero entre 1 y 10.\n",
    "\n",
    "Utilizar un bucle mientras para generar y mostrar la tabla de multiplicar del número ingresado.\n",
    "\n",
    "Utilizar un bucle para para generar y mostrar la tabla de multiplicar del número ingresado.\n",
    "\n",
    "Salida:\n",
    "\n",
    "Mostrar la tabla de multiplicar del número ingresado desde 1 hasta 10."
   ]
  },
  {
   "cell_type": "markdown",
   "metadata": {},
   "source": [
    "## PSEUCODIGO\n",
    "\n",
    "Algoritmo ImprimirMultiplicaciones\n",
    "\n",
    "\n",
    "    Definir numero, i Como Entero\n",
    "\n",
    "    Escribir \"Elige un numero: \"\n",
    "\n",
    "    Leer numero\n",
    "\n",
    "    i <- 1\n",
    "\n",
    "    Mientras i < 10 Hacer\n",
    "\n",
    "        Escribir numero * i\n",
    "\n",
    "        i <- i + 1\n",
    "\n",
    "    FinMientras\n",
    "\n",
    "\n",
    "    Escribir numero * 10\n",
    "\n",
    "FinAlgoritmo\n"
   ]
  },
  {
   "cell_type": "code",
   "execution_count": null,
   "metadata": {},
   "outputs": [],
   "source": [
    "numero = int(input(\"Elige un numero: \"))\n",
    "\n",
    "i = 1\n",
    "\n",
    "while i < 10:\n",
    "    print(numero * i)\n",
    "    i += 1\n",
    "print(numero * 10)"
   ]
  }
 ],
 "metadata": {
  "language_info": {
   "name": "python"
  }
 },
 "nbformat": 4,
 "nbformat_minor": 2
}
